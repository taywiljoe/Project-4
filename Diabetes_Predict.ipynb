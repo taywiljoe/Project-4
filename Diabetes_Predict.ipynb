{
  "cells": [
    {
      "cell_type": "markdown",
      "metadata": {
        "id": "DP3-Uzrjf9ze"
      },
      "source": [
        "## Preprocessing"
      ]
    },
    {
      "cell_type": "code",
      "source": [
        "import os\n",
        "spark_version = 'spark-3.5.0'\n",
        "os.environ['SPARK_VERSION']=spark_version"
      ],
      "metadata": {
        "id": "PVdfjUEBgCd1"
      },
      "execution_count": null,
      "outputs": []
    },
    {
      "cell_type": "code",
      "source": [
        "# Install Spark and Java\n",
        "!apt-get update\n",
        "!apt-get install openjdk-11-jdk-headless -qq > /dev/null\n",
        "!wget -q http://www.apache.org/dist/spark/$SPARK_VERSION/$SPARK_VERSION-bin-hadoop3.tgz\n",
        "!tar xf $SPARK_VERSION-bin-hadoop3.tgz\n",
        "!pip install -q findspark"
      ],
      "metadata": {
        "colab": {
          "base_uri": "https://localhost:8080/"
        },
        "id": "jM-Ic9IfmaCj",
        "outputId": "c445c4d6-2ab5-4d57-8adc-5a56c870ef37"
      },
      "execution_count": null,
      "outputs": [
        {
          "output_type": "stream",
          "name": "stdout",
          "text": [
            "\r0% [Working]\r            \rHit:1 https://cloud.r-project.org/bin/linux/ubuntu jammy-cran40/ InRelease\n",
            "\r0% [Connecting to archive.ubuntu.com] [Connecting to security.ubuntu.com (91.189.91.82)] [Connecting\r                                                                                                    \rHit:2 https://developer.download.nvidia.com/compute/cuda/repos/ubuntu2204/x86_64  InRelease\n",
            "Get:3 http://security.ubuntu.com/ubuntu jammy-security InRelease [110 kB]\n",
            "Hit:4 http://archive.ubuntu.com/ubuntu jammy InRelease\n",
            "Get:5 http://archive.ubuntu.com/ubuntu jammy-updates InRelease [119 kB]\n",
            "Hit:6 https://ppa.launchpadcontent.net/c2d4u.team/c2d4u4.0+/ubuntu jammy InRelease\n",
            "Hit:7 http://archive.ubuntu.com/ubuntu jammy-backports InRelease\n",
            "Hit:8 https://ppa.launchpadcontent.net/deadsnakes/ppa/ubuntu jammy InRelease\n",
            "Hit:9 https://ppa.launchpadcontent.net/graphics-drivers/ppa/ubuntu jammy InRelease\n",
            "Hit:10 https://ppa.launchpadcontent.net/ubuntugis/ppa/ubuntu jammy InRelease\n",
            "Fetched 229 kB in 6s (38.8 kB/s)\n",
            "Reading package lists... Done\n"
          ]
        }
      ]
    },
    {
      "cell_type": "code",
      "source": [
        "#Set Environment Variables\n",
        "os.environ[\"JAVA_HOME\"] = \"/usr/lib/jvm/java-11-openjdk-amd64\"\n",
        "os.environ[\"SPARK_HOME\"] = f\"/content/{spark_version}-bin-hadoop3\""
      ],
      "metadata": {
        "id": "iNXynohmm4vY"
      },
      "execution_count": null,
      "outputs": []
    },
    {
      "cell_type": "code",
      "source": [
        "# Start a SparkSession\n",
        "import findspark\n",
        "findspark.init()\n"
      ],
      "metadata": {
        "id": "8EvrwptTnGoL"
      },
      "execution_count": null,
      "outputs": []
    },
    {
      "cell_type": "code",
      "execution_count": null,
      "metadata": {
        "id": "l1tht94-f9zh",
        "outputId": "34da0b79-8081-4ebe-b014-d3cf99bafef8",
        "colab": {
          "base_uri": "https://localhost:8080/",
          "height": 226
        }
      },
      "outputs": [
        {
          "output_type": "execute_result",
          "data": {
            "text/plain": [
              "   gender   age  hypertension  heart_disease smoking_history    bmi  \\\n",
              "0  Female  80.0             0              1           never  25.19   \n",
              "1  Female  54.0             0              0         No Info  27.32   \n",
              "2    Male  28.0             0              0           never  27.32   \n",
              "3  Female  36.0             0              0         current  23.45   \n",
              "4    Male  76.0             1              1         current  20.14   \n",
              "\n",
              "   HbA1c_level  blood_glucose_level  diabetes  \n",
              "0          6.6                  140         0  \n",
              "1          6.6                   80         0  \n",
              "2          5.7                  158         0  \n",
              "3          5.0                  155         0  \n",
              "4          4.8                  155         0  "
            ],
            "text/html": [
              "\n",
              "  <div id=\"df-307ce796-fc34-41bc-9ff8-b8ce82096623\" class=\"colab-df-container\">\n",
              "    <div>\n",
              "<style scoped>\n",
              "    .dataframe tbody tr th:only-of-type {\n",
              "        vertical-align: middle;\n",
              "    }\n",
              "\n",
              "    .dataframe tbody tr th {\n",
              "        vertical-align: top;\n",
              "    }\n",
              "\n",
              "    .dataframe thead th {\n",
              "        text-align: right;\n",
              "    }\n",
              "</style>\n",
              "<table border=\"1\" class=\"dataframe\">\n",
              "  <thead>\n",
              "    <tr style=\"text-align: right;\">\n",
              "      <th></th>\n",
              "      <th>gender</th>\n",
              "      <th>age</th>\n",
              "      <th>hypertension</th>\n",
              "      <th>heart_disease</th>\n",
              "      <th>smoking_history</th>\n",
              "      <th>bmi</th>\n",
              "      <th>HbA1c_level</th>\n",
              "      <th>blood_glucose_level</th>\n",
              "      <th>diabetes</th>\n",
              "    </tr>\n",
              "  </thead>\n",
              "  <tbody>\n",
              "    <tr>\n",
              "      <th>0</th>\n",
              "      <td>Female</td>\n",
              "      <td>80.0</td>\n",
              "      <td>0</td>\n",
              "      <td>1</td>\n",
              "      <td>never</td>\n",
              "      <td>25.19</td>\n",
              "      <td>6.6</td>\n",
              "      <td>140</td>\n",
              "      <td>0</td>\n",
              "    </tr>\n",
              "    <tr>\n",
              "      <th>1</th>\n",
              "      <td>Female</td>\n",
              "      <td>54.0</td>\n",
              "      <td>0</td>\n",
              "      <td>0</td>\n",
              "      <td>No Info</td>\n",
              "      <td>27.32</td>\n",
              "      <td>6.6</td>\n",
              "      <td>80</td>\n",
              "      <td>0</td>\n",
              "    </tr>\n",
              "    <tr>\n",
              "      <th>2</th>\n",
              "      <td>Male</td>\n",
              "      <td>28.0</td>\n",
              "      <td>0</td>\n",
              "      <td>0</td>\n",
              "      <td>never</td>\n",
              "      <td>27.32</td>\n",
              "      <td>5.7</td>\n",
              "      <td>158</td>\n",
              "      <td>0</td>\n",
              "    </tr>\n",
              "    <tr>\n",
              "      <th>3</th>\n",
              "      <td>Female</td>\n",
              "      <td>36.0</td>\n",
              "      <td>0</td>\n",
              "      <td>0</td>\n",
              "      <td>current</td>\n",
              "      <td>23.45</td>\n",
              "      <td>5.0</td>\n",
              "      <td>155</td>\n",
              "      <td>0</td>\n",
              "    </tr>\n",
              "    <tr>\n",
              "      <th>4</th>\n",
              "      <td>Male</td>\n",
              "      <td>76.0</td>\n",
              "      <td>1</td>\n",
              "      <td>1</td>\n",
              "      <td>current</td>\n",
              "      <td>20.14</td>\n",
              "      <td>4.8</td>\n",
              "      <td>155</td>\n",
              "      <td>0</td>\n",
              "    </tr>\n",
              "  </tbody>\n",
              "</table>\n",
              "</div>\n",
              "    <div class=\"colab-df-buttons\">\n",
              "\n",
              "  <div class=\"colab-df-container\">\n",
              "    <button class=\"colab-df-convert\" onclick=\"convertToInteractive('df-307ce796-fc34-41bc-9ff8-b8ce82096623')\"\n",
              "            title=\"Convert this dataframe to an interactive table.\"\n",
              "            style=\"display:none;\">\n",
              "\n",
              "  <svg xmlns=\"http://www.w3.org/2000/svg\" height=\"24px\" viewBox=\"0 -960 960 960\">\n",
              "    <path d=\"M120-120v-720h720v720H120Zm60-500h600v-160H180v160Zm220 220h160v-160H400v160Zm0 220h160v-160H400v160ZM180-400h160v-160H180v160Zm440 0h160v-160H620v160ZM180-180h160v-160H180v160Zm440 0h160v-160H620v160Z\"/>\n",
              "  </svg>\n",
              "    </button>\n",
              "\n",
              "  <style>\n",
              "    .colab-df-container {\n",
              "      display:flex;\n",
              "      gap: 12px;\n",
              "    }\n",
              "\n",
              "    .colab-df-convert {\n",
              "      background-color: #E8F0FE;\n",
              "      border: none;\n",
              "      border-radius: 50%;\n",
              "      cursor: pointer;\n",
              "      display: none;\n",
              "      fill: #1967D2;\n",
              "      height: 32px;\n",
              "      padding: 0 0 0 0;\n",
              "      width: 32px;\n",
              "    }\n",
              "\n",
              "    .colab-df-convert:hover {\n",
              "      background-color: #E2EBFA;\n",
              "      box-shadow: 0px 1px 2px rgba(60, 64, 67, 0.3), 0px 1px 3px 1px rgba(60, 64, 67, 0.15);\n",
              "      fill: #174EA6;\n",
              "    }\n",
              "\n",
              "    .colab-df-buttons div {\n",
              "      margin-bottom: 4px;\n",
              "    }\n",
              "\n",
              "    [theme=dark] .colab-df-convert {\n",
              "      background-color: #3B4455;\n",
              "      fill: #D2E3FC;\n",
              "    }\n",
              "\n",
              "    [theme=dark] .colab-df-convert:hover {\n",
              "      background-color: #434B5C;\n",
              "      box-shadow: 0px 1px 3px 1px rgba(0, 0, 0, 0.15);\n",
              "      filter: drop-shadow(0px 1px 2px rgba(0, 0, 0, 0.3));\n",
              "      fill: #FFFFFF;\n",
              "    }\n",
              "  </style>\n",
              "\n",
              "    <script>\n",
              "      const buttonEl =\n",
              "        document.querySelector('#df-307ce796-fc34-41bc-9ff8-b8ce82096623 button.colab-df-convert');\n",
              "      buttonEl.style.display =\n",
              "        google.colab.kernel.accessAllowed ? 'block' : 'none';\n",
              "\n",
              "      async function convertToInteractive(key) {\n",
              "        const element = document.querySelector('#df-307ce796-fc34-41bc-9ff8-b8ce82096623');\n",
              "        const dataTable =\n",
              "          await google.colab.kernel.invokeFunction('convertToInteractive',\n",
              "                                                    [key], {});\n",
              "        if (!dataTable) return;\n",
              "\n",
              "        const docLinkHtml = 'Like what you see? Visit the ' +\n",
              "          '<a target=\"_blank\" href=https://colab.research.google.com/notebooks/data_table.ipynb>data table notebook</a>'\n",
              "          + ' to learn more about interactive tables.';\n",
              "        element.innerHTML = '';\n",
              "        dataTable['output_type'] = 'display_data';\n",
              "        await google.colab.output.renderOutput(dataTable, element);\n",
              "        const docLink = document.createElement('div');\n",
              "        docLink.innerHTML = docLinkHtml;\n",
              "        element.appendChild(docLink);\n",
              "      }\n",
              "    </script>\n",
              "  </div>\n",
              "\n",
              "\n",
              "<div id=\"df-b7adce1a-2820-4862-9816-fa15c5feacbe\">\n",
              "  <button class=\"colab-df-quickchart\" onclick=\"quickchart('df-b7adce1a-2820-4862-9816-fa15c5feacbe')\"\n",
              "            title=\"Suggest charts\"\n",
              "            style=\"display:none;\">\n",
              "\n",
              "<svg xmlns=\"http://www.w3.org/2000/svg\" height=\"24px\"viewBox=\"0 0 24 24\"\n",
              "     width=\"24px\">\n",
              "    <g>\n",
              "        <path d=\"M19 3H5c-1.1 0-2 .9-2 2v14c0 1.1.9 2 2 2h14c1.1 0 2-.9 2-2V5c0-1.1-.9-2-2-2zM9 17H7v-7h2v7zm4 0h-2V7h2v10zm4 0h-2v-4h2v4z\"/>\n",
              "    </g>\n",
              "</svg>\n",
              "  </button>\n",
              "\n",
              "<style>\n",
              "  .colab-df-quickchart {\n",
              "      --bg-color: #E8F0FE;\n",
              "      --fill-color: #1967D2;\n",
              "      --hover-bg-color: #E2EBFA;\n",
              "      --hover-fill-color: #174EA6;\n",
              "      --disabled-fill-color: #AAA;\n",
              "      --disabled-bg-color: #DDD;\n",
              "  }\n",
              "\n",
              "  [theme=dark] .colab-df-quickchart {\n",
              "      --bg-color: #3B4455;\n",
              "      --fill-color: #D2E3FC;\n",
              "      --hover-bg-color: #434B5C;\n",
              "      --hover-fill-color: #FFFFFF;\n",
              "      --disabled-bg-color: #3B4455;\n",
              "      --disabled-fill-color: #666;\n",
              "  }\n",
              "\n",
              "  .colab-df-quickchart {\n",
              "    background-color: var(--bg-color);\n",
              "    border: none;\n",
              "    border-radius: 50%;\n",
              "    cursor: pointer;\n",
              "    display: none;\n",
              "    fill: var(--fill-color);\n",
              "    height: 32px;\n",
              "    padding: 0;\n",
              "    width: 32px;\n",
              "  }\n",
              "\n",
              "  .colab-df-quickchart:hover {\n",
              "    background-color: var(--hover-bg-color);\n",
              "    box-shadow: 0 1px 2px rgba(60, 64, 67, 0.3), 0 1px 3px 1px rgba(60, 64, 67, 0.15);\n",
              "    fill: var(--button-hover-fill-color);\n",
              "  }\n",
              "\n",
              "  .colab-df-quickchart-complete:disabled,\n",
              "  .colab-df-quickchart-complete:disabled:hover {\n",
              "    background-color: var(--disabled-bg-color);\n",
              "    fill: var(--disabled-fill-color);\n",
              "    box-shadow: none;\n",
              "  }\n",
              "\n",
              "  .colab-df-spinner {\n",
              "    border: 2px solid var(--fill-color);\n",
              "    border-color: transparent;\n",
              "    border-bottom-color: var(--fill-color);\n",
              "    animation:\n",
              "      spin 1s steps(1) infinite;\n",
              "  }\n",
              "\n",
              "  @keyframes spin {\n",
              "    0% {\n",
              "      border-color: transparent;\n",
              "      border-bottom-color: var(--fill-color);\n",
              "      border-left-color: var(--fill-color);\n",
              "    }\n",
              "    20% {\n",
              "      border-color: transparent;\n",
              "      border-left-color: var(--fill-color);\n",
              "      border-top-color: var(--fill-color);\n",
              "    }\n",
              "    30% {\n",
              "      border-color: transparent;\n",
              "      border-left-color: var(--fill-color);\n",
              "      border-top-color: var(--fill-color);\n",
              "      border-right-color: var(--fill-color);\n",
              "    }\n",
              "    40% {\n",
              "      border-color: transparent;\n",
              "      border-right-color: var(--fill-color);\n",
              "      border-top-color: var(--fill-color);\n",
              "    }\n",
              "    60% {\n",
              "      border-color: transparent;\n",
              "      border-right-color: var(--fill-color);\n",
              "    }\n",
              "    80% {\n",
              "      border-color: transparent;\n",
              "      border-right-color: var(--fill-color);\n",
              "      border-bottom-color: var(--fill-color);\n",
              "    }\n",
              "    90% {\n",
              "      border-color: transparent;\n",
              "      border-bottom-color: var(--fill-color);\n",
              "    }\n",
              "  }\n",
              "</style>\n",
              "\n",
              "  <script>\n",
              "    async function quickchart(key) {\n",
              "      const quickchartButtonEl =\n",
              "        document.querySelector('#' + key + ' button');\n",
              "      quickchartButtonEl.disabled = true;  // To prevent multiple clicks.\n",
              "      quickchartButtonEl.classList.add('colab-df-spinner');\n",
              "      try {\n",
              "        const charts = await google.colab.kernel.invokeFunction(\n",
              "            'suggestCharts', [key], {});\n",
              "      } catch (error) {\n",
              "        console.error('Error during call to suggestCharts:', error);\n",
              "      }\n",
              "      quickchartButtonEl.classList.remove('colab-df-spinner');\n",
              "      quickchartButtonEl.classList.add('colab-df-quickchart-complete');\n",
              "    }\n",
              "    (() => {\n",
              "      let quickchartButtonEl =\n",
              "        document.querySelector('#df-b7adce1a-2820-4862-9816-fa15c5feacbe button');\n",
              "      quickchartButtonEl.style.display =\n",
              "        google.colab.kernel.accessAllowed ? 'block' : 'none';\n",
              "    })();\n",
              "  </script>\n",
              "</div>\n",
              "    </div>\n",
              "  </div>\n"
            ]
          },
          "metadata": {},
          "execution_count": 5
        }
      ],
      "source": [
        "# Import our dependencies\n",
        "from sklearn.model_selection import train_test_split\n",
        "from sklearn.preprocessing import StandardScaler\n",
        "import pandas as pd\n",
        "import tensorflow as tf\n",
        "from tensorflow.keras import Sequential\n",
        "from tensorflow.keras.layers import Dense\n",
        "from pyspark.sql import SparkSession\n",
        "import time\n",
        "\n",
        "\n",
        "\n",
        "#  Import and read the diabetes_prediction_dataset.csv.\n",
        "import pandas as pd\n",
        "url = \"https://raw.githubusercontent.com/taywiljoe/Project-4/main/diabetes_prediction_dataset.csv\"\n",
        "diabetes_df = pd.read_csv(url)\n",
        "diabetes_df.head()"
      ]
    },
    {
      "cell_type": "code",
      "execution_count": null,
      "metadata": {
        "id": "mhc_ctOKf9zj"
      },
      "outputs": [],
      "source": [
        "# Drop the non-beneficial ID columns, 'EIN' and 'NAME'.\n",
        "#application_df.drop(['EIN', 'NAME'], axis=1, inplace=True)\n",
        "#application_df\n",
        "\n"
      ]
    },
    {
      "cell_type": "code",
      "execution_count": null,
      "metadata": {
        "id": "Mv3EACYkf9zk",
        "colab": {
          "base_uri": "https://localhost:8080/"
        },
        "outputId": "3179a52d-9c55-4400-de8d-d4efa2b77e30"
      },
      "outputs": [
        {
          "output_type": "execute_result",
          "data": {
            "text/plain": [
              "gender                    3\n",
              "age                     102\n",
              "hypertension              2\n",
              "heart_disease             2\n",
              "smoking_history           6\n",
              "bmi                    4247\n",
              "HbA1c_level              18\n",
              "blood_glucose_level      18\n",
              "diabetes                  2\n",
              "dtype: int64"
            ]
          },
          "metadata": {},
          "execution_count": 6
        }
      ],
      "source": [
        "# Determine the number of unique values in each column.\n",
        "diabetes_df.nunique()"
      ]
    },
    {
      "cell_type": "code",
      "source": [
        "diabetes_df['diabetes'].value_counts()"
      ],
      "metadata": {
        "colab": {
          "base_uri": "https://localhost:8080/"
        },
        "id": "vbJujnA3Fyaz",
        "outputId": "662bedec-7224-409e-8425-2c703c791f82"
      },
      "execution_count": null,
      "outputs": [
        {
          "output_type": "execute_result",
          "data": {
            "text/plain": [
              "0    91500\n",
              "1     8500\n",
              "Name: diabetes, dtype: int64"
            ]
          },
          "metadata": {},
          "execution_count": 7
        }
      ]
    },
    {
      "cell_type": "code",
      "source": [
        "recall"
      ],
      "metadata": {
        "id": "swITxQdlF6j3"
      },
      "execution_count": null,
      "outputs": []
    },
    {
      "cell_type": "code",
      "source": [
        "import seaborn as sns\n",
        "sns.displot(diabetes_df['bmi'])"
      ],
      "metadata": {
        "colab": {
          "base_uri": "https://localhost:8080/",
          "height": 524
        },
        "id": "kzLfL7A9FQw_",
        "outputId": "efa0f569-a343-44f1-b892-22e1c407b3cc"
      },
      "execution_count": null,
      "outputs": [
        {
          "output_type": "execute_result",
          "data": {
            "text/plain": [
              "<seaborn.axisgrid.FacetGrid at 0x79f4d5c3b310>"
            ]
          },
          "metadata": {},
          "execution_count": 9
        },
        {
          "output_type": "display_data",
          "data": {
            "text/plain": [
              "<Figure size 500x500 with 1 Axes>"
            ],
            "image/png": "[encoded data removed]"
          },
          "metadata": {}
        }
      ]
    },
    {
      "cell_type": "code",
      "execution_count": null,
      "metadata": {
        "id": "7PO4XPNlf9zk",
        "colab": {
          "base_uri": "https://localhost:8080/"
        },
        "outputId": "83ee9597-a7a9-471c-eb19-eb2ed7143226"
      },
      "outputs": [
        {
          "output_type": "execute_result",
          "data": {
            "text/plain": [
              "27.32    25495\n",
              "23.00      103\n",
              "27.12      101\n",
              "27.80      100\n",
              "24.96      100\n",
              "         ...  \n",
              "58.23        1\n",
              "48.18        1\n",
              "55.57        1\n",
              "57.07        1\n",
              "60.52        1\n",
              "Name: bmi, Length: 4247, dtype: int64"
            ]
          },
          "metadata": {},
          "execution_count": 10
        }
      ],
      "source": [
        "# Look at bmi value counts for binning\n",
        "diabetes_df['bmi'].value_counts()\n"
      ]
    },
    {
      "cell_type": "code",
      "source": [
        "# You may find it helpful to look at CLASSIFICATION value counts >1\n",
        "#application_df['CLASSIFICATION'].value_counts().gt(1).sum()\n",
        "diabetes_df['bmi'].value_counts().loc[lambda x : x<35]\n"
      ],
      "metadata": {
        "colab": {
          "base_uri": "https://localhost:8080/"
        },
        "id": "0t7iQxKGwKT_",
        "outputId": "029ceee5-ec03-418f-b31f-f25ec6e19880"
      },
      "execution_count": null,
      "outputs": [
        {
          "output_type": "execute_result",
          "data": {
            "text/plain": [
              "29.48    34\n",
              "19.73    34\n",
              "30.99    34\n",
              "34.13    34\n",
              "19.50    34\n",
              "         ..\n",
              "58.23     1\n",
              "48.18     1\n",
              "55.57     1\n",
              "57.07     1\n",
              "60.52     1\n",
              "Name: bmi, Length: 3573, dtype: int64"
            ]
          },
          "metadata": {},
          "execution_count": 29
        }
      ]
    },
    {
      "cell_type": "code",
      "source": [],
      "metadata": {
        "id": "WGppR-gHeiEU"
      },
      "execution_count": null,
      "outputs": []
    },
    {
      "cell_type": "code",
      "execution_count": null,
      "metadata": {
        "id": "qjzAUtKzf9zk"
      },
      "outputs": [],
      "source": [
        "# Choose a cutoff value and create a list of application types to be replaced\n",
        "# use the variable name `application_types_to_replace`\n",
        "#df1['binned'] = pd.cut(df1['Score'], bins,labels=labels)\n",
        "#print (df1)\n",
        "#bmi_types_to_replace = [58.23,48.18,55.57,57.07,60.52]\n",
        "\n",
        "# Replace in dataframe\n",
        "#for app in bmi_types_to_replace:\n",
        "#    diabetes_df['bmi'] = application_df['bmi'].replace(app,\"Other\")\n",
        "\n",
        "# Check to make sure binning was successful\n",
        "#diabetes_df['bmi'].value_counts()"
      ]
    },
    {
      "cell_type": "code",
      "execution_count": null,
      "metadata": {
        "id": "-G0hQe_tf9zl"
      },
      "outputs": [],
      "source": [
        "# Choose a cutoff value and create a list of classifications to be replaced\n",
        "# use the variable name `classifications_to_replace'\n",
        "#classifications_to_replace = ['C4120','C8210','C2561','C4500','C2150','C1235',\n",
        "#'C2150']\n",
        "\n",
        "# Replace in dataframe\n",
        "#for cls in classifications_to_replace:\n",
        "#   diabetes_df['CLASSIFICATION'] = diabetes_df['CLASSIFICATION'].replace(cls,\"Other\")\n",
        "\n",
        "# Check to make sure binning was successful\n",
        "#diabetes_df['CLASSIFICATION'].value_counts()"
      ]
    },
    {
      "cell_type": "code",
      "execution_count": null,
      "metadata": {
        "id": "apiCQaBtf9zl",
        "colab": {
          "base_uri": "https://localhost:8080/",
          "height": 244
        },
        "outputId": "358d5dfe-ad2b-4cfb-e171-aa57850beda4"
      },
      "outputs": [
        {
          "output_type": "execute_result",
          "data": {
            "text/plain": [
              "    age  hypertension  heart_disease    bmi  HbA1c_level  blood_glucose_level  \\\n",
              "0  80.0             0              1  25.19          6.6                  140   \n",
              "1  54.0             0              0  27.32          6.6                   80   \n",
              "2  28.0             0              0  27.32          5.7                  158   \n",
              "3  36.0             0              0  23.45          5.0                  155   \n",
              "4  76.0             1              1  20.14          4.8                  155   \n",
              "\n",
              "   gender_Female  gender_Male  gender_Other  smoking_history_No Info  \\\n",
              "0              1            0             0                        0   \n",
              "1              1            0             0                        1   \n",
              "2              0            1             0                        0   \n",
              "3              1            0             0                        0   \n",
              "4              0            1             0                        0   \n",
              "\n",
              "   smoking_history_current  smoking_history_ever  smoking_history_former  \\\n",
              "0                        0                     0                       0   \n",
              "1                        0                     0                       0   \n",
              "2                        0                     0                       0   \n",
              "3                        1                     0                       0   \n",
              "4                        1                     0                       0   \n",
              "\n",
              "   smoking_history_never  smoking_history_not current  \n",
              "0                      1                            0  \n",
              "1                      0                            0  \n",
              "2                      1                            0  \n",
              "3                      0                            0  \n",
              "4                      0                            0  "
            ],
            "text/html": [
              "\n",
              "  <div id=\"df-8b72a3ee-4f69-4efa-b08b-86118a84dead\" class=\"colab-df-container\">\n",
              "    <div>\n",
              "<style scoped>\n",
              "    .dataframe tbody tr th:only-of-type {\n",
              "        vertical-align: middle;\n",
              "    }\n",
              "\n",
              "    .dataframe tbody tr th {\n",
              "        vertical-align: top;\n",
              "    }\n",
              "\n",
              "    .dataframe thead th {\n",
              "        text-align: right;\n",
              "    }\n",
              "</style>\n",
              "<table border=\"1\" class=\"dataframe\">\n",
              "  <thead>\n",
              "    <tr style=\"text-align: right;\">\n",
              "      <th></th>\n",
              "      <th>age</th>\n",
              "      <th>hypertension</th>\n",
              "      <th>heart_disease</th>\n",
              "      <th>bmi</th>\n",
              "      <th>HbA1c_level</th>\n",
              "      <th>blood_glucose_level</th>\n",
              "      <th>gender_Female</th>\n",
              "      <th>gender_Male</th>\n",
              "      <th>gender_Other</th>\n",
              "      <th>smoking_history_No Info</th>\n",
              "      <th>smoking_history_current</th>\n",
              "      <th>smoking_history_ever</th>\n",
              "      <th>smoking_history_former</th>\n",
              "      <th>smoking_history_never</th>\n",
              "      <th>smoking_history_not current</th>\n",
              "    </tr>\n",
              "  </thead>\n",
              "  <tbody>\n",
              "    <tr>\n",
              "      <th>0</th>\n",
              "      <td>80.0</td>\n",
              "      <td>0</td>\n",
              "      <td>1</td>\n",
              "      <td>25.19</td>\n",
              "      <td>6.6</td>\n",
              "      <td>140</td>\n",
              "      <td>1</td>\n",
              "      <td>0</td>\n",
              "      <td>0</td>\n",
              "      <td>0</td>\n",
              "      <td>0</td>\n",
              "      <td>0</td>\n",
              "      <td>0</td>\n",
              "      <td>1</td>\n",
              "      <td>0</td>\n",
              "    </tr>\n",
              "    <tr>\n",
              "      <th>1</th>\n",
              "      <td>54.0</td>\n",
              "      <td>0</td>\n",
              "      <td>0</td>\n",
              "      <td>27.32</td>\n",
              "      <td>6.6</td>\n",
              "      <td>80</td>\n",
              "      <td>1</td>\n",
              "      <td>0</td>\n",
              "      <td>0</td>\n",
              "      <td>1</td>\n",
              "      <td>0</td>\n",
              "      <td>0</td>\n",
              "      <td>0</td>\n",
              "      <td>0</td>\n",
              "      <td>0</td>\n",
              "    </tr>\n",
              "    <tr>\n",
              "      <th>2</th>\n",
              "      <td>28.0</td>\n",
              "      <td>0</td>\n",
              "      <td>0</td>\n",
              "      <td>27.32</td>\n",
              "      <td>5.7</td>\n",
              "      <td>158</td>\n",
              "      <td>0</td>\n",
              "      <td>1</td>\n",
              "      <td>0</td>\n",
              "      <td>0</td>\n",
              "      <td>0</td>\n",
              "      <td>0</td>\n",
              "      <td>0</td>\n",
              "      <td>1</td>\n",
              "      <td>0</td>\n",
              "    </tr>\n",
              "    <tr>\n",
              "      <th>3</th>\n",
              "      <td>36.0</td>\n",
              "      <td>0</td>\n",
              "      <td>0</td>\n",
              "      <td>23.45</td>\n",
              "      <td>5.0</td>\n",
              "      <td>155</td>\n",
              "      <td>1</td>\n",
              "      <td>0</td>\n",
              "      <td>0</td>\n",
              "      <td>0</td>\n",
              "      <td>1</td>\n",
              "      <td>0</td>\n",
              "      <td>0</td>\n",
              "      <td>0</td>\n",
              "      <td>0</td>\n",
              "    </tr>\n",
              "    <tr>\n",
              "      <th>4</th>\n",
              "      <td>76.0</td>\n",
              "      <td>1</td>\n",
              "      <td>1</td>\n",
              "      <td>20.14</td>\n",
              "      <td>4.8</td>\n",
              "      <td>155</td>\n",
              "      <td>0</td>\n",
              "      <td>1</td>\n",
              "      <td>0</td>\n",
              "      <td>0</td>\n",
              "      <td>1</td>\n",
              "      <td>0</td>\n",
              "      <td>0</td>\n",
              "      <td>0</td>\n",
              "      <td>0</td>\n",
              "    </tr>\n",
              "  </tbody>\n",
              "</table>\n",
              "</div>\n",
              "    <div class=\"colab-df-buttons\">\n",
              "\n",
              "  <div class=\"colab-df-container\">\n",
              "    <button class=\"colab-df-convert\" onclick=\"convertToInteractive('df-8b72a3ee-4f69-4efa-b08b-86118a84dead')\"\n",
              "            title=\"Convert this dataframe to an interactive table.\"\n",
              "            style=\"display:none;\">\n",
              "\n",
              "  <svg xmlns=\"http://www.w3.org/2000/svg\" height=\"24px\" viewBox=\"0 -960 960 960\">\n",
              "    <path d=\"M120-120v-720h720v720H120Zm60-500h600v-160H180v160Zm220 220h160v-160H400v160Zm0 220h160v-160H400v160ZM180-400h160v-160H180v160Zm440 0h160v-160H620v160ZM180-180h160v-160H180v160Zm440 0h160v-160H620v160Z\"/>\n",
              "  </svg>\n",
              "    </button>\n",
              "\n",
              "  <style>\n",
              "    .colab-df-container {\n",
              "      display:flex;\n",
              "      gap: 12px;\n",
              "    }\n",
              "\n",
              "    .colab-df-convert {\n",
              "      background-color: #E8F0FE;\n",
              "      border: none;\n",
              "      border-radius: 50%;\n",
              "      cursor: pointer;\n",
              "      display: none;\n",
              "      fill: #1967D2;\n",
              "      height: 32px;\n",
              "      padding: 0 0 0 0;\n",
              "      width: 32px;\n",
              "    }\n",
              "\n",
              "    .colab-df-convert:hover {\n",
              "      background-color: #E2EBFA;\n",
              "      box-shadow: 0px 1px 2px rgba(60, 64, 67, 0.3), 0px 1px 3px 1px rgba(60, 64, 67, 0.15);\n",
              "      fill: #174EA6;\n",
              "    }\n",
              "\n",
              "    .colab-df-buttons div {\n",
              "      margin-bottom: 4px;\n",
              "    }\n",
              "\n",
              "    [theme=dark] .colab-df-convert {\n",
              "      background-color: #3B4455;\n",
              "      fill: #D2E3FC;\n",
              "    }\n",
              "\n",
              "    [theme=dark] .colab-df-convert:hover {\n",
              "      background-color: #434B5C;\n",
              "      box-shadow: 0px 1px 3px 1px rgba(0, 0, 0, 0.15);\n",
              "      filter: drop-shadow(0px 1px 2px rgba(0, 0, 0, 0.3));\n",
              "      fill: #FFFFFF;\n",
              "    }\n",
              "  </style>\n",
              "\n",
              "    <script>\n",
              "      const buttonEl =\n",
              "        document.querySelector('#df-8b72a3ee-4f69-4efa-b08b-86118a84dead button.colab-df-convert');\n",
              "      buttonEl.style.display =\n",
              "        google.colab.kernel.accessAllowed ? 'block' : 'none';\n",
              "\n",
              "      async function convertToInteractive(key) {\n",
              "        const element = document.querySelector('#df-8b72a3ee-4f69-4efa-b08b-86118a84dead');\n",
              "        const dataTable =\n",
              "          await google.colab.kernel.invokeFunction('convertToInteractive',\n",
              "                                                    [key], {});\n",
              "        if (!dataTable) return;\n",
              "\n",
              "        const docLinkHtml = 'Like what you see? Visit the ' +\n",
              "          '<a target=\"_blank\" href=https://colab.research.google.com/notebooks/data_table.ipynb>data table notebook</a>'\n",
              "          + ' to learn more about interactive tables.';\n",
              "        element.innerHTML = '';\n",
              "        dataTable['output_type'] = 'display_data';\n",
              "        await google.colab.output.renderOutput(dataTable, element);\n",
              "        const docLink = document.createElement('div');\n",
              "        docLink.innerHTML = docLinkHtml;\n",
              "        element.appendChild(docLink);\n",
              "      }\n",
              "    </script>\n",
              "  </div>\n",
              "\n",
              "\n",
              "<div id=\"df-81dea9df-f7a7-4ec5-9291-867a34054209\">\n",
              "  <button class=\"colab-df-quickchart\" onclick=\"quickchart('df-81dea9df-f7a7-4ec5-9291-867a34054209')\"\n",
              "            title=\"Suggest charts\"\n",
              "            style=\"display:none;\">\n",
              "\n",
              "<svg xmlns=\"http://www.w3.org/2000/svg\" height=\"24px\"viewBox=\"0 0 24 24\"\n",
              "     width=\"24px\">\n",
              "    <g>\n",
              "        <path d=\"M19 3H5c-1.1 0-2 .9-2 2v14c0 1.1.9 2 2 2h14c1.1 0 2-.9 2-2V5c0-1.1-.9-2-2-2zM9 17H7v-7h2v7zm4 0h-2V7h2v10zm4 0h-2v-4h2v4z\"/>\n",
              "    </g>\n",
              "</svg>\n",
              "  </button>\n",
              "\n",
              "<style>\n",
              "  .colab-df-quickchart {\n",
              "      --bg-color: #E8F0FE;\n",
              "      --fill-color: #1967D2;\n",
              "      --hover-bg-color: #E2EBFA;\n",
              "      --hover-fill-color: #174EA6;\n",
              "      --disabled-fill-color: #AAA;\n",
              "      --disabled-bg-color: #DDD;\n",
              "  }\n",
              "\n",
              "  [theme=dark] .colab-df-quickchart {\n",
              "      --bg-color: #3B4455;\n",
              "      --fill-color: #D2E3FC;\n",
              "      --hover-bg-color: #434B5C;\n",
              "      --hover-fill-color: #FFFFFF;\n",
              "      --disabled-bg-color: #3B4455;\n",
              "      --disabled-fill-color: #666;\n",
              "  }\n",
              "\n",
              "  .colab-df-quickchart {\n",
              "    background-color: var(--bg-color);\n",
              "    border: none;\n",
              "    border-radius: 50%;\n",
              "    cursor: pointer;\n",
              "    display: none;\n",
              "    fill: var(--fill-color);\n",
              "    height: 32px;\n",
              "    padding: 0;\n",
              "    width: 32px;\n",
              "  }\n",
              "\n",
              "  .colab-df-quickchart:hover {\n",
              "    background-color: var(--hover-bg-color);\n",
              "    box-shadow: 0 1px 2px rgba(60, 64, 67, 0.3), 0 1px 3px 1px rgba(60, 64, 67, 0.15);\n",
              "    fill: var(--button-hover-fill-color);\n",
              "  }\n",
              "\n",
              "  .colab-df-quickchart-complete:disabled,\n",
              "  .colab-df-quickchart-complete:disabled:hover {\n",
              "    background-color: var(--disabled-bg-color);\n",
              "    fill: var(--disabled-fill-color);\n",
              "    box-shadow: none;\n",
              "  }\n",
              "\n",
              "  .colab-df-spinner {\n",
              "    border: 2px solid var(--fill-color);\n",
              "    border-color: transparent;\n",
              "    border-bottom-color: var(--fill-color);\n",
              "    animation:\n",
              "      spin 1s steps(1) infinite;\n",
              "  }\n",
              "\n",
              "  @keyframes spin {\n",
              "    0% {\n",
              "      border-color: transparent;\n",
              "      border-bottom-color: var(--fill-color);\n",
              "      border-left-color: var(--fill-color);\n",
              "    }\n",
              "    20% {\n",
              "      border-color: transparent;\n",
              "      border-left-color: var(--fill-color);\n",
              "      border-top-color: var(--fill-color);\n",
              "    }\n",
              "    30% {\n",
              "      border-color: transparent;\n",
              "      border-left-color: var(--fill-color);\n",
              "      border-top-color: var(--fill-color);\n",
              "      border-right-color: var(--fill-color);\n",
              "    }\n",
              "    40% {\n",
              "      border-color: transparent;\n",
              "      border-right-color: var(--fill-color);\n",
              "      border-top-color: var(--fill-color);\n",
              "    }\n",
              "    60% {\n",
              "      border-color: transparent;\n",
              "      border-right-color: var(--fill-color);\n",
              "    }\n",
              "    80% {\n",
              "      border-color: transparent;\n",
              "      border-right-color: var(--fill-color);\n",
              "      border-bottom-color: var(--fill-color);\n",
              "    }\n",
              "    90% {\n",
              "      border-color: transparent;\n",
              "      border-bottom-color: var(--fill-color);\n",
              "    }\n",
              "  }\n",
              "</style>\n",
              "\n",
              "  <script>\n",
              "    async function quickchart(key) {\n",
              "      const quickchartButtonEl =\n",
              "        document.querySelector('#' + key + ' button');\n",
              "      quickchartButtonEl.disabled = true;  // To prevent multiple clicks.\n",
              "      quickchartButtonEl.classList.add('colab-df-spinner');\n",
              "      try {\n",
              "        const charts = await google.colab.kernel.invokeFunction(\n",
              "            'suggestCharts', [key], {});\n",
              "      } catch (error) {\n",
              "        console.error('Error during call to suggestCharts:', error);\n",
              "      }\n",
              "      quickchartButtonEl.classList.remove('colab-df-spinner');\n",
              "      quickchartButtonEl.classList.add('colab-df-quickchart-complete');\n",
              "    }\n",
              "    (() => {\n",
              "      let quickchartButtonEl =\n",
              "        document.querySelector('#df-81dea9df-f7a7-4ec5-9291-867a34054209 button');\n",
              "      quickchartButtonEl.style.display =\n",
              "        google.colab.kernel.accessAllowed ? 'block' : 'none';\n",
              "    })();\n",
              "  </script>\n",
              "</div>\n",
              "    </div>\n",
              "  </div>\n"
            ]
          },
          "metadata": {},
          "execution_count": 13
        }
      ],
      "source": [
        "# Convert categorical data to numeric with `pd.get_dummies`\n",
        "y = diabetes_df['diabetes']\n",
        "X = diabetes_df.drop(columns='diabetes')\n",
        "X = pd.get_dummies(X)\n",
        "X.head()"
      ]
    },
    {
      "cell_type": "code",
      "source": [
        "# Import the RandomOverSampler module from imbalanced-learn\n",
        "from collections import Counter\n",
        "from imblearn.over_sampling import RandomOverSampler\n",
        "\n",
        "# Instantiate the random oversampler model\n",
        "# # Assign a random_state parameter of 1 to the model\n",
        "ros = RandomOverSampler(random_state=1)\n",
        "\n",
        "# Fit the original training data to the random_oversampler model\n",
        "X_res, y_res = ros.fit_resample(X, y)\n",
        "# Count the distinct values of the resampled labels data\n",
        "print('Resampled dataset shape %s' % Counter(y_res))\n"
      ],
      "metadata": {
        "colab": {
          "base_uri": "https://localhost:8080/"
        },
        "id": "8E7i0ngWTirC",
        "outputId": "894d9c55-b321-49fc-d0f4-fb7ad7f4dfd2"
      },
      "execution_count": null,
      "outputs": [
        {
          "output_type": "stream",
          "name": "stdout",
          "text": [
            "Resampled dataset shape Counter({0: 91500, 1: 91500})\n"
          ]
        }
      ]
    },
    {
      "cell_type": "code",
      "execution_count": null,
      "metadata": {
        "id": "wA8YK37Qf9zl",
        "colab": {
          "base_uri": "https://localhost:8080/"
        },
        "outputId": "853f3d00-bc44-4e6a-f25d-19e49902ce0f"
      },
      "outputs": [
        {
          "output_type": "execute_result",
          "data": {
            "text/plain": [
              "(137250, 15)"
            ]
          },
          "metadata": {},
          "execution_count": 15
        }
      ],
      "source": [
        "# Split our preprocessed data into our features and target arrays\n",
        "X_train, X_test, y_train, y_test = train_test_split(X_res, y_res, random_state=1)\n",
        "X_train.shape\n",
        "\n",
        "# Split the preprocessed data into a training and testing dataset\n",
        "#  YOUR CODE GOES HERE"
      ]
    },
    {
      "cell_type": "code",
      "source": [
        "X_test.shape\n"
      ],
      "metadata": {
        "colab": {
          "base_uri": "https://localhost:8080/"
        },
        "id": "YFQhJ_tETy31",
        "outputId": "eaba06ad-2a44-4865-ca43-ed14425b1a88"
      },
      "execution_count": null,
      "outputs": [
        {
          "output_type": "execute_result",
          "data": {
            "text/plain": [
              "(45750, 15)"
            ]
          },
          "metadata": {},
          "execution_count": 17
        }
      ]
    },
    {
      "cell_type": "code",
      "execution_count": null,
      "metadata": {
        "id": "eLfnWa3df9zl",
        "colab": {
          "base_uri": "https://localhost:8080/"
        },
        "outputId": "07ee7837-fa3d-444c-b25f-df1b15c61216"
      },
      "outputs": [
        {
          "output_type": "execute_result",
          "data": {
            "text/plain": [
              "array([[-1.79168244, -0.42468913, -0.31414261, ..., -0.39535497,\n",
              "        -0.76607461, -0.2801949 ],\n",
              "       [ 1.36876559, -0.42468913,  3.18326762, ..., -0.39535497,\n",
              "        -0.76607461, -0.2801949 ],\n",
              "       [-0.44384431,  2.3546635 , -0.31414261, ..., -0.39535497,\n",
              "         1.30535588, -0.2801949 ],\n",
              "       ...,\n",
              "       [-0.6762302 , -0.42468913, -0.31414261, ..., -0.39535497,\n",
              "         1.30535588, -0.2801949 ],\n",
              "       [ 1.36876559,  2.3546635 , -0.31414261, ...,  2.52937254,\n",
              "        -0.76607461, -0.2801949 ],\n",
              "       [ 1.22933405, -0.42468913, -0.31414261, ..., -0.39535497,\n",
              "        -0.76607461, -0.2801949 ]])"
            ]
          },
          "metadata": {},
          "execution_count": 18
        }
      ],
      "source": [
        "# Create a StandardScaler instances\n",
        "scaler = StandardScaler()\n",
        "\n",
        "# Fit the StandardScaler\n",
        "X_scaler = scaler.fit(X_train)\n",
        "\n",
        "# Scale the data\n",
        "X_train_scaled = X_scaler.transform(X_train)\n",
        "X_test_scaled = X_scaler.transform(X_test)\n",
        "X_train_scaled"
      ]
    },
    {
      "cell_type": "code",
      "source": [
        "X_test_scaled"
      ],
      "metadata": {
        "colab": {
          "base_uri": "https://localhost:8080/"
        },
        "id": "9Vb1hZsnUhLo",
        "outputId": "afdbb29a-6c28-491a-f05c-141ea7347ec4"
      },
      "execution_count": null,
      "outputs": [
        {
          "output_type": "execute_result",
          "data": {
            "text/plain": [
              "array([[ 0.06740463, -0.42468913,  3.18326762, ..., -0.39535497,\n",
              "        -0.76607461, -0.2801949 ],\n",
              "       [ 0.16035899, -0.42468913, -0.31414261, ..., -0.39535497,\n",
              "        -0.76607461, -0.2801949 ],\n",
              "       [-1.32691067, -0.42468913, -0.31414261, ..., -0.39535497,\n",
              "         1.30535588, -0.2801949 ],\n",
              "       ...,\n",
              "       [ 1.22933405, -0.42468913, -0.31414261, ..., -0.39535497,\n",
              "         1.30535588, -0.2801949 ],\n",
              "       [-0.53679867, -0.42468913, -0.31414261, ..., -0.39535497,\n",
              "        -0.76607461,  3.56894433],\n",
              "       [-1.83815962, -0.42468913, -0.31414261, ..., -0.39535497,\n",
              "        -0.76607461, -0.2801949 ]])"
            ]
          },
          "metadata": {},
          "execution_count": 19
        }
      ]
    },
    {
      "cell_type": "markdown",
      "metadata": {
        "id": "9bJdAptUf9zl"
      },
      "source": [
        "## Compile, Train and Evaluate the Model"
      ]
    },
    {
      "cell_type": "code",
      "execution_count": null,
      "metadata": {
        "id": "cmpDQmzwf9zm",
        "colab": {
          "base_uri": "https://localhost:8080/"
        },
        "outputId": "100173a1-265e-40a1-a1e4-63b1c745e958"
      },
      "outputs": [
        {
          "output_type": "stream",
          "name": "stdout",
          "text": [
            "Model: \"sequential\"\n",
            "_________________________________________________________________\n",
            " Layer (type)                Output Shape              Param #   \n",
            "=================================================================\n",
            " dense (Dense)               (None, 5)                 80        \n",
            "                                                                 \n",
            " dense_1 (Dense)             (None, 3)                 18        \n",
            "                                                                 \n",
            " dense_2 (Dense)             (None, 1)                 4         \n",
            "                                                                 \n",
            "=================================================================\n",
            "Total params: 102 (408.00 Byte)\n",
            "Trainable params: 102 (408.00 Byte)\n",
            "Non-trainable params: 0 (0.00 Byte)\n",
            "_________________________________________________________________\n"
          ]
        }
      ],
      "source": [
        "# Define the model - deep neural net, i.e., the number of input features and hidden nodes for each layer.\n",
        "nn_model = tf.keras.models.Sequential()\n",
        "\n",
        "# First hidden layer\n",
        "nn_model.add(tf.keras.layers.Dense(units=5, activation=\"relu\", input_dim=15))\n",
        "\n",
        "# Second hidden layer\n",
        "nn_model.add(tf.keras.layers.Dense(units=3, activation=\"relu\"))\n",
        "\n",
        "# Output layer\n",
        "nn_model.add(tf.keras.layers.Dense(units=1, activation=\"sigmoid\"))\n",
        "\n",
        "# Check the structure of the model\n",
        "nn_model.summary()"
      ]
    },
    {
      "cell_type": "code",
      "execution_count": null,
      "metadata": {
        "id": "-906nxWhf9zm"
      },
      "outputs": [],
      "source": [
        "# Compile the model\n",
        "nn_model.compile(loss=\"binary_crossentropy\", optimizer=\"adam\", metrics=[\"accuracy\"])"
      ]
    },
    {
      "cell_type": "code",
      "execution_count": null,
      "metadata": {
        "id": "VyLPWgVVf9zm",
        "colab": {
          "base_uri": "https://localhost:8080/"
        },
        "outputId": "28f6d3b9-eebf-4865-bbe9-78a52c8e741f"
      },
      "outputs": [
        {
          "output_type": "stream",
          "name": "stdout",
          "text": [
            "Epoch 1/100\n",
            "4290/4290 [==============================] - 14s 3ms/step - loss: 0.2157 - accuracy: 0.8968\n",
            "Epoch 2/100\n",
            "4290/4290 [==============================] - 9s 2ms/step - loss: 0.2154 - accuracy: 0.8974\n",
            "Epoch 3/100\n",
            "4290/4290 [==============================] - 9s 2ms/step - loss: 0.2153 - accuracy: 0.8971\n",
            "Epoch 4/100\n",
            "4290/4290 [==============================] - 8s 2ms/step - loss: 0.2156 - accuracy: 0.8972\n",
            "Epoch 5/100\n",
            "4290/4290 [==============================] - 9s 2ms/step - loss: 0.2153 - accuracy: 0.8969\n",
            "Epoch 6/100\n",
            "4290/4290 [==============================] - 8s 2ms/step - loss: 0.2155 - accuracy: 0.8976\n",
            "Epoch 7/100\n",
            "4290/4290 [==============================] - 8s 2ms/step - loss: 0.2153 - accuracy: 0.8972\n",
            "Epoch 8/100\n",
            "4290/4290 [==============================] - 9s 2ms/step - loss: 0.2153 - accuracy: 0.8973\n",
            "Epoch 9/100\n",
            "4290/4290 [==============================] - 8s 2ms/step - loss: 0.2155 - accuracy: 0.8970\n",
            "Epoch 10/100\n",
            "4290/4290 [==============================] - 9s 2ms/step - loss: 0.2153 - accuracy: 0.8973\n",
            "Epoch 11/100\n",
            "4290/4290 [==============================] - 9s 2ms/step - loss: 0.2153 - accuracy: 0.8968\n",
            "Epoch 12/100\n",
            "4290/4290 [==============================] - 8s 2ms/step - loss: 0.2154 - accuracy: 0.8966\n",
            "Epoch 13/100\n",
            "4290/4290 [==============================] - 11s 3ms/step - loss: 0.2153 - accuracy: 0.8966\n",
            "Epoch 14/100\n",
            "4290/4290 [==============================] - 9s 2ms/step - loss: 0.2151 - accuracy: 0.8969\n",
            "Epoch 15/100\n",
            "4290/4290 [==============================] - 8s 2ms/step - loss: 0.2152 - accuracy: 0.8968\n",
            "Epoch 16/100\n",
            "4290/4290 [==============================] - 9s 2ms/step - loss: 0.2154 - accuracy: 0.8970\n",
            "Epoch 17/100\n",
            "4290/4290 [==============================] - 8s 2ms/step - loss: 0.2153 - accuracy: 0.8966\n",
            "Epoch 18/100\n",
            "4290/4290 [==============================] - 9s 2ms/step - loss: 0.2153 - accuracy: 0.8969\n",
            "Epoch 19/100\n",
            "4290/4290 [==============================] - 9s 2ms/step - loss: 0.2153 - accuracy: 0.8968\n",
            "Epoch 20/100\n",
            "4290/4290 [==============================] - 8s 2ms/step - loss: 0.2149 - accuracy: 0.8972\n",
            "Epoch 21/100\n",
            "4290/4290 [==============================] - 10s 2ms/step - loss: 0.2151 - accuracy: 0.8974\n",
            "Epoch 22/100\n",
            "4290/4290 [==============================] - 11s 3ms/step - loss: 0.2151 - accuracy: 0.8970\n",
            "Epoch 23/100\n",
            "4290/4290 [==============================] - 8s 2ms/step - loss: 0.2151 - accuracy: 0.8972\n",
            "Epoch 24/100\n",
            "4290/4290 [==============================] - 9s 2ms/step - loss: 0.2150 - accuracy: 0.8972\n",
            "Epoch 25/100\n",
            "4290/4290 [==============================] - 8s 2ms/step - loss: 0.2152 - accuracy: 0.8969\n",
            "Epoch 26/100\n",
            "4290/4290 [==============================] - 8s 2ms/step - loss: 0.2152 - accuracy: 0.8969\n",
            "Epoch 27/100\n",
            "4290/4290 [==============================] - 9s 2ms/step - loss: 0.2155 - accuracy: 0.8967\n",
            "Epoch 28/100\n",
            "4290/4290 [==============================] - 8s 2ms/step - loss: 0.2151 - accuracy: 0.8967\n",
            "Epoch 29/100\n",
            "4290/4290 [==============================] - 9s 2ms/step - loss: 0.2153 - accuracy: 0.8972\n",
            "Epoch 30/100\n",
            "4290/4290 [==============================] - 9s 2ms/step - loss: 0.2152 - accuracy: 0.8962\n",
            "Epoch 31/100\n",
            "4290/4290 [==============================] - 8s 2ms/step - loss: 0.2150 - accuracy: 0.8972\n",
            "Epoch 32/100\n",
            "4290/4290 [==============================] - 9s 2ms/step - loss: 0.2152 - accuracy: 0.8973\n",
            "Epoch 33/100\n",
            "4290/4290 [==============================] - 8s 2ms/step - loss: 0.2148 - accuracy: 0.8969\n",
            "Epoch 34/100\n",
            "4290/4290 [==============================] - 9s 2ms/step - loss: 0.2150 - accuracy: 0.8968\n",
            "Epoch 35/100\n",
            "4290/4290 [==============================] - 9s 2ms/step - loss: 0.2149 - accuracy: 0.8973\n",
            "Epoch 36/100\n",
            "4290/4290 [==============================] - 8s 2ms/step - loss: 0.2149 - accuracy: 0.8974\n",
            "Epoch 37/100\n",
            "4290/4290 [==============================] - 9s 2ms/step - loss: 0.2149 - accuracy: 0.8972\n",
            "Epoch 38/100\n",
            "4290/4290 [==============================] - 8s 2ms/step - loss: 0.2151 - accuracy: 0.8970\n",
            "Epoch 39/100\n",
            "4290/4290 [==============================] - 9s 2ms/step - loss: 0.2150 - accuracy: 0.8972\n",
            "Epoch 40/100\n",
            "4290/4290 [==============================] - 9s 2ms/step - loss: 0.2148 - accuracy: 0.8976\n",
            "Epoch 41/100\n",
            "4290/4290 [==============================] - 8s 2ms/step - loss: 0.2150 - accuracy: 0.8968\n",
            "Epoch 42/100\n",
            "4290/4290 [==============================] - 9s 2ms/step - loss: 0.2149 - accuracy: 0.8976\n",
            "Epoch 43/100\n",
            "4290/4290 [==============================] - 8s 2ms/step - loss: 0.2149 - accuracy: 0.8973\n",
            "Epoch 44/100\n",
            "4290/4290 [==============================] - 9s 2ms/step - loss: 0.2148 - accuracy: 0.8973\n",
            "Epoch 45/100\n",
            "4290/4290 [==============================] - 9s 2ms/step - loss: 0.2150 - accuracy: 0.8969\n",
            "Epoch 46/100\n",
            "4290/4290 [==============================] - 8s 2ms/step - loss: 0.2148 - accuracy: 0.8976\n",
            "Epoch 47/100\n",
            "4290/4290 [==============================] - 9s 2ms/step - loss: 0.2149 - accuracy: 0.8975\n",
            "Epoch 48/100\n",
            "4290/4290 [==============================] - 9s 2ms/step - loss: 0.2149 - accuracy: 0.8973\n",
            "Epoch 49/100\n",
            "4290/4290 [==============================] - 8s 2ms/step - loss: 0.2147 - accuracy: 0.8973\n",
            "Epoch 50/100\n",
            "4290/4290 [==============================] - 9s 2ms/step - loss: 0.2148 - accuracy: 0.8976\n",
            "Epoch 51/100\n",
            "4290/4290 [==============================] - 8s 2ms/step - loss: 0.2150 - accuracy: 0.8968\n",
            "Epoch 52/100\n",
            "4290/4290 [==============================] - 9s 2ms/step - loss: 0.2147 - accuracy: 0.8972\n",
            "Epoch 53/100\n",
            "4290/4290 [==============================] - 9s 2ms/step - loss: 0.2148 - accuracy: 0.8970\n",
            "Epoch 54/100\n",
            "4290/4290 [==============================] - 8s 2ms/step - loss: 0.2149 - accuracy: 0.8971\n",
            "Epoch 55/100\n",
            "4290/4290 [==============================] - 9s 2ms/step - loss: 0.2148 - accuracy: 0.8972\n",
            "Epoch 56/100\n",
            "4290/4290 [==============================] - 8s 2ms/step - loss: 0.2149 - accuracy: 0.8969\n",
            "Epoch 57/100\n",
            "4290/4290 [==============================] - 9s 2ms/step - loss: 0.2147 - accuracy: 0.8970\n",
            "Epoch 58/100\n",
            "4290/4290 [==============================] - 9s 2ms/step - loss: 0.2145 - accuracy: 0.8973\n",
            "Epoch 59/100\n",
            "4290/4290 [==============================] - 8s 2ms/step - loss: 0.2148 - accuracy: 0.8977\n",
            "Epoch 60/100\n",
            "4290/4290 [==============================] - 9s 2ms/step - loss: 0.2146 - accuracy: 0.8978\n",
            "Epoch 61/100\n",
            "4290/4290 [==============================] - 8s 2ms/step - loss: 0.2147 - accuracy: 0.8976\n",
            "Epoch 62/100\n",
            "4290/4290 [==============================] - 8s 2ms/step - loss: 0.2148 - accuracy: 0.8969\n",
            "Epoch 63/100\n",
            "4290/4290 [==============================] - 9s 2ms/step - loss: 0.2149 - accuracy: 0.8975\n",
            "Epoch 64/100\n",
            "4290/4290 [==============================] - 8s 2ms/step - loss: 0.2147 - accuracy: 0.8975\n",
            "Epoch 65/100\n",
            "4290/4290 [==============================] - 9s 2ms/step - loss: 0.2148 - accuracy: 0.8970\n",
            "Epoch 66/100\n",
            "4290/4290 [==============================] - 9s 2ms/step - loss: 0.2146 - accuracy: 0.8972\n",
            "Epoch 67/100\n",
            "4290/4290 [==============================] - 8s 2ms/step - loss: 0.2147 - accuracy: 0.8967\n",
            "Epoch 68/100\n",
            "4290/4290 [==============================] - 9s 2ms/step - loss: 0.2147 - accuracy: 0.8968\n",
            "Epoch 69/100\n",
            "4290/4290 [==============================] - 8s 2ms/step - loss: 0.2148 - accuracy: 0.8969\n",
            "Epoch 70/100\n",
            "4290/4290 [==============================] - 9s 2ms/step - loss: 0.2147 - accuracy: 0.8970\n",
            "Epoch 71/100\n",
            "4290/4290 [==============================] - 9s 2ms/step - loss: 0.2148 - accuracy: 0.8967\n",
            "Epoch 72/100\n",
            "4290/4290 [==============================] - 8s 2ms/step - loss: 0.2146 - accuracy: 0.8974\n",
            "Epoch 73/100\n",
            "4290/4290 [==============================] - 9s 2ms/step - loss: 0.2147 - accuracy: 0.8966\n",
            "Epoch 74/100\n",
            "4290/4290 [==============================] - 8s 2ms/step - loss: 0.2147 - accuracy: 0.8967\n",
            "Epoch 75/100\n",
            "4290/4290 [==============================] - 9s 2ms/step - loss: 0.2147 - accuracy: 0.8970\n",
            "Epoch 76/100\n",
            "4290/4290 [==============================] - 9s 2ms/step - loss: 0.2145 - accuracy: 0.8971\n",
            "Epoch 77/100\n",
            "4290/4290 [==============================] - 8s 2ms/step - loss: 0.2148 - accuracy: 0.8975\n",
            "Epoch 78/100\n",
            "4290/4290 [==============================] - 9s 2ms/step - loss: 0.2146 - accuracy: 0.8974\n",
            "Epoch 79/100\n",
            "4290/4290 [==============================] - 8s 2ms/step - loss: 0.2144 - accuracy: 0.8974\n",
            "Epoch 80/100\n",
            "4290/4290 [==============================] - 9s 2ms/step - loss: 0.2147 - accuracy: 0.8974\n",
            "Epoch 81/100\n",
            "4290/4290 [==============================] - 9s 2ms/step - loss: 0.2147 - accuracy: 0.8976\n",
            "Epoch 82/100\n",
            "4290/4290 [==============================] - 8s 2ms/step - loss: 0.2144 - accuracy: 0.8976\n",
            "Epoch 83/100\n",
            "4290/4290 [==============================] - 9s 2ms/step - loss: 0.2144 - accuracy: 0.8971\n",
            "Epoch 84/100\n",
            "4290/4290 [==============================] - 8s 2ms/step - loss: 0.2147 - accuracy: 0.8970\n",
            "Epoch 85/100\n",
            "4290/4290 [==============================] - 8s 2ms/step - loss: 0.2146 - accuracy: 0.8976\n",
            "Epoch 86/100\n",
            "4290/4290 [==============================] - 9s 2ms/step - loss: 0.2147 - accuracy: 0.8973\n",
            "Epoch 87/100\n",
            "4290/4290 [==============================] - 8s 2ms/step - loss: 0.2145 - accuracy: 0.8974\n",
            "Epoch 88/100\n",
            "4290/4290 [==============================] - 9s 2ms/step - loss: 0.2145 - accuracy: 0.8972\n",
            "Epoch 89/100\n",
            "4290/4290 [==============================] - 8s 2ms/step - loss: 0.2145 - accuracy: 0.8972\n",
            "Epoch 90/100\n",
            "4290/4290 [==============================] - 8s 2ms/step - loss: 0.2145 - accuracy: 0.8973\n",
            "Epoch 91/100\n",
            "4290/4290 [==============================] - 9s 2ms/step - loss: 0.2145 - accuracy: 0.8972\n",
            "Epoch 92/100\n",
            "4290/4290 [==============================] - 8s 2ms/step - loss: 0.2144 - accuracy: 0.8975\n",
            "Epoch 93/100\n",
            "4290/4290 [==============================] - 9s 2ms/step - loss: 0.2146 - accuracy: 0.8971\n",
            "Epoch 94/100\n",
            "4290/4290 [==============================] - 9s 2ms/step - loss: 0.2146 - accuracy: 0.8970\n",
            "Epoch 95/100\n",
            "4290/4290 [==============================] - 8s 2ms/step - loss: 0.2145 - accuracy: 0.8973\n",
            "Epoch 96/100\n",
            "4290/4290 [==============================] - 9s 2ms/step - loss: 0.2145 - accuracy: 0.8969\n",
            "Epoch 97/100\n",
            "4290/4290 [==============================] - 8s 2ms/step - loss: 0.2145 - accuracy: 0.8972\n",
            "Epoch 98/100\n",
            "4290/4290 [==============================] - 9s 2ms/step - loss: 0.2145 - accuracy: 0.8974\n",
            "Epoch 99/100\n",
            "4290/4290 [==============================] - 9s 2ms/step - loss: 0.2144 - accuracy: 0.8971\n",
            "Epoch 100/100\n",
            "4290/4290 [==============================] - 8s 2ms/step - loss: 0.2145 - accuracy: 0.8970\n"
          ]
        }
      ],
      "source": [
        "# Train the model\n",
        "fit_model = nn_model.fit(X_train_scaled, y_train, epochs=100)"
      ]
    },
    {
      "cell_type": "code",
      "execution_count": null,
      "metadata": {
        "id": "04PJaN-mf9zm",
        "colab": {
          "base_uri": "https://localhost:8080/"
        },
        "outputId": "ff044398-3895-4344-d9e0-2b3f289f1647"
      },
      "outputs": [
        {
          "output_type": "stream",
          "name": "stdout",
          "text": [
            "1430/1430 - 2s - loss: 0.2152 - accuracy: 0.8967 - 2s/epoch - 1ms/step\n",
            "Loss: 0.21520914137363434, Accuracy: 0.8967213034629822\n"
          ]
        }
      ],
      "source": [
        "# Evaluate the model using the test data\n",
        "model_loss, model_accuracy = nn_model.evaluate(X_test_scaled,y_test,verbose=2)\n",
        "print(f\"Loss: {model_loss}, Accuracy: {model_accuracy}\")"
      ]
    },
    {
      "cell_type": "code",
      "execution_count": null,
      "metadata": {
        "id": "PSTVPzOsf9zm"
      },
      "outputs": [],
      "source": [
        "# Export our model to HDF5 file\n",
        "#  YOUR CODE GOES HERE"
      ]
    }
  ],
  "metadata": {
    "kernelspec": {
      "display_name": "Python 3 (ipykernel)",
      "language": "python",
      "name": "python3"
    },
    "language_info": {
      "codemirror_mode": {
        "name": "ipython",
        "version": 3
      },
      "file_extension": ".py",
      "mimetype": "text/x-python",
      "name": "python",
      "nbconvert_exporter": "python",
      "pygments_lexer": "ipython3",
      "version": "3.10.11"
    },
    "vscode": {
      "interpreter": {
        "hash": "31f2aee4e71d21fbe5cf8b01ff0e069b9275f58929596ceb00d14d90e3e16cd6"
      }
    },
    "colab": {
      "provenance": []
    }
  },
  "nbformat": 4,
  "nbformat_minor": 0
}